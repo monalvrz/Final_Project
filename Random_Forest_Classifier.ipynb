{
 "cells": [
  {
   "cell_type": "code",
   "execution_count": 11,
   "id": "b4a4a6f2",
   "metadata": {},
   "outputs": [],
   "source": [
    "# Initial imports.\n",
    "import pandas as pd\n",
    "import numpy as np\n",
    "from sklearn.ensemble import RandomForestClassifier\n",
    "from sklearn.preprocessing import StandardScaler\n",
    "from sklearn.model_selection import train_test_split\n",
    "from sklearn.metrics import confusion_matrix, accuracy_score, classification_report\n",
    "from sklearn.datasets import make_classification"
   ]
  },
  {
   "cell_type": "code",
   "execution_count": 34,
   "id": "ad74d14f",
   "metadata": {},
   "outputs": [
    {
     "data": {
      "text/plain": [
       "array([[ 1.44144246,  1.08438653, -0.28190824, ..., -2.47909796,\n",
       "        -0.58588219, -0.43669044],\n",
       "       [ 0.55355925, -0.16443415,  0.32335895, ..., -0.27532982,\n",
       "         0.01003574, -0.3267483 ],\n",
       "       [ 1.94081009, -0.88442602,  0.14781557, ..., -0.04514866,\n",
       "         0.58175401, -1.44246295],\n",
       "       ...,\n",
       "       [-1.70460861,  0.70245195, -0.44440221, ...,  0.03976029,\n",
       "         0.89482372, -1.15734208],\n",
       "       [-1.03801954,  0.67329629,  0.85502538, ...,  0.2359358 ,\n",
       "         0.58547744, -0.73437052],\n",
       "       [-0.8859545 ,  1.58674044, -1.82532741, ..., -0.96601934,\n",
       "         0.10654035,  0.35602187]])"
      ]
     },
     "execution_count": 34,
     "metadata": {},
     "output_type": "execute_result"
    }
   ],
   "source": [
    "# Loading data\n",
    "# file_path = \n",
    "# df_loans = pd.read_csv(file_path)\n",
    "# df_loans.head()\n",
    "### ---------------------PLACEHOLDER----------------------\n",
    "### The final csv will be uploaded to github, therefore the raw csv will be accessed using the github url\n",
    "### This is a test dataframe\n",
    "X, y = make_classification(random_state=18, n_classes=2, n_samples=400, n_features=300)"
   ]
  },
  {
   "cell_type": "code",
   "execution_count": null,
   "id": "40a0305f",
   "metadata": {},
   "outputs": [],
   "source": []
  }
 ],
 "metadata": {
  "kernelspec": {
   "display_name": "PythonData",
   "language": "python",
   "name": "pythondata"
  },
  "language_info": {
   "codemirror_mode": {
    "name": "ipython",
    "version": 3
   },
   "file_extension": ".py",
   "mimetype": "text/x-python",
   "name": "python",
   "nbconvert_exporter": "python",
   "pygments_lexer": "ipython3",
   "version": "3.7.13"
  }
 },
 "nbformat": 4,
 "nbformat_minor": 5
}
